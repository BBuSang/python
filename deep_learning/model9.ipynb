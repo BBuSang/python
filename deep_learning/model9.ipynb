{
 "cells": [
  {
   "cell_type": "code",
   "execution_count": null,
   "id": "4b2a4867",
   "metadata": {},
   "outputs": [],
   "source": [
    "# 딥러닝 회귀\n",
    "# 출력의 개수를 1개로\n",
    "# 손실 함수를 MSE나 기타 등등...\n",
    "# 데이터셋과 데이터 로드를 커스텀하게 정의해서 사용\n",
    "# 나머지는 동일한 패턴으로 학습 평가"
   ]
  },
  {
   "cell_type": "code",
   "execution_count": 10,
   "id": "05836190",
   "metadata": {},
   "outputs": [
    {
     "name": "stderr",
     "output_type": "stream",
     "text": [
      "<>:8: SyntaxWarning: invalid escape sequence '\\s'\n",
      "<>:8: SyntaxWarning: invalid escape sequence '\\s'\n",
      "C:\\Users\\31799\\AppData\\Local\\Temp\\ipykernel_15824\\2079271604.py:8: SyntaxWarning: invalid escape sequence '\\s'\n",
      "  raw_df = pd.read_csv(data_url,sep=\"\\s+\",skiprows=22,header=None)\n"
     ]
    }
   ],
   "source": [
    "from torch.utils.data import Dataset, DataLoader\n",
    "import pandas as pd\n",
    "import numpy as np\n",
    "import torch\n",
    "import torch.nn as nn\n",
    "\n",
    "data_url = 'http://lib.stat.cmu.edu/datasets/boston'\n",
    "raw_df = pd.read_csv(data_url,sep=\"\\s+\",skiprows=22,header=None)\n",
    "data = np.hstack([raw_df.values[::2, :], raw_df.values[1::2, :2]])\n",
    "target = raw_df.values[1::2, 2]\n",
    "\n",
    "\n",
    "class BostonDataSet(Dataset) :\n",
    "    def __init__(self,X,y) :\n",
    "        self.X = torch.tensor(X,dtype=torch.float32)\n",
    "        self.y = torch.tensor(y,dtype=torch.float32).view(-1,1)\n",
    "    def __len__(self) :\n",
    "        return len(self.X)\n",
    "    def __getitem__(self,idx) :\n",
    "        return self.X[idx],self.y[idx]"
   ]
  },
  {
   "cell_type": "code",
   "execution_count": 11,
   "id": "ddb9df2c",
   "metadata": {},
   "outputs": [],
   "source": [
    "X_dataset = BostonDataSet(data,target)\n",
    "X_train_loader = DataLoader(X_dataset,batch_size=32,shuffle=True)"
   ]
  },
  {
   "cell_type": "code",
   "execution_count": 12,
   "id": "9608735a",
   "metadata": {},
   "outputs": [],
   "source": [
    "# 회긔 모델 정의\n",
    "class BostonRegresstion(nn.Module):\n",
    "    def __init__(self, input_dim):\n",
    "        super(BostonRegresstion,self).__init__()\n",
    "        self.model =  nn.Sequential(\n",
    "            nn.Linear(input_dim,64),\n",
    "            nn.ReLU(),\n",
    "            nn.Linear(64,32),\n",
    "            nn.ReLU(),\n",
    "            nn.Linear(32,1)\n",
    "        )\n",
    "    def forward(self,x):\n",
    "        return self.model(x)"
   ]
  },
  {
   "cell_type": "code",
   "execution_count": 14,
   "id": "75be65c9",
   "metadata": {},
   "outputs": [],
   "source": [
    "from torch.optim import Adam\n",
    "model = BostonRegresstion(data.shape[1])\n",
    "criterion = nn.MSELoss()\n",
    "optimizer = Adam(model.parameters(),lr=0.001)"
   ]
  },
  {
   "cell_type": "code",
   "execution_count": 18,
   "id": "2d55fd9c",
   "metadata": {},
   "outputs": [
    {
     "name": "stderr",
     "output_type": "stream",
     "text": [
      "100%|██████████| 16/16 [00:00<00:00, 420.03it/s]s, loss=40.6]\n",
      "Epoch 1/20:   0%|          | 0/16 [00:00<?, ?it/s, loss=40.6]\n"
     ]
    },
    {
     "name": "stdout",
     "output_type": "stream",
     "text": [
      "Epoch [1/20], Loss: 24.5370\n"
     ]
    },
    {
     "name": "stderr",
     "output_type": "stream",
     "text": [
      "100%|██████████| 16/16 [00:00<00:00, 487.84it/s]s, loss=16]  \n",
      "Epoch 2/20:   0%|          | 0/16 [00:00<?, ?it/s, loss=16]\n"
     ]
    },
    {
     "name": "stdout",
     "output_type": "stream",
     "text": [
      "Epoch [2/20], Loss: 25.8558\n"
     ]
    },
    {
     "name": "stderr",
     "output_type": "stream",
     "text": [
      "100%|██████████| 16/16 [00:00<00:00, 463.89it/s]s, loss=20.6]\n",
      "Epoch 3/20:   0%|          | 0/16 [00:00<?, ?it/s, loss=20.6]\n"
     ]
    },
    {
     "name": "stdout",
     "output_type": "stream",
     "text": [
      "Epoch [3/20], Loss: 24.8360\n"
     ]
    },
    {
     "name": "stderr",
     "output_type": "stream",
     "text": [
      "100%|██████████| 16/16 [00:00<00:00, 447.13it/s]s, loss=20.8]\n",
      "Epoch 4/20:   0%|          | 0/16 [00:00<?, ?it/s, loss=20.8]\n"
     ]
    },
    {
     "name": "stdout",
     "output_type": "stream",
     "text": [
      "Epoch [4/20], Loss: 24.0433\n"
     ]
    },
    {
     "name": "stderr",
     "output_type": "stream",
     "text": [
      "100%|██████████| 16/16 [00:00<00:00, 501.37it/s]s, loss=29]  \n",
      "Epoch 5/20:   0%|          | 0/16 [00:00<?, ?it/s, loss=29]\n"
     ]
    },
    {
     "name": "stdout",
     "output_type": "stream",
     "text": [
      "Epoch [5/20], Loss: 24.4948\n"
     ]
    },
    {
     "name": "stderr",
     "output_type": "stream",
     "text": [
      "100%|██████████| 16/16 [00:00<00:00, 535.86it/s]s, loss=43.4]\n",
      "Epoch 6/20:   0%|          | 0/16 [00:00<?, ?it/s, loss=43.4]\n"
     ]
    },
    {
     "name": "stdout",
     "output_type": "stream",
     "text": [
      "Epoch [6/20], Loss: 25.1799\n"
     ]
    },
    {
     "name": "stderr",
     "output_type": "stream",
     "text": [
      "100%|██████████| 16/16 [00:00<00:00, 446.56it/s]s, loss=32.7]\n",
      "Epoch 7/20:   0%|          | 0/16 [00:00<?, ?it/s, loss=32.7]\n"
     ]
    },
    {
     "name": "stdout",
     "output_type": "stream",
     "text": [
      "Epoch [7/20], Loss: 25.9158\n"
     ]
    },
    {
     "name": "stderr",
     "output_type": "stream",
     "text": [
      "100%|██████████| 16/16 [00:00<00:00, 467.45it/s]s, loss=19.4]\n",
      "Epoch 8/20:   0%|          | 0/16 [00:00<?, ?it/s, loss=19.4]\n"
     ]
    },
    {
     "name": "stdout",
     "output_type": "stream",
     "text": [
      "Epoch [8/20], Loss: 23.0527\n"
     ]
    },
    {
     "name": "stderr",
     "output_type": "stream",
     "text": [
      "100%|██████████| 16/16 [00:00<00:00, 492.21it/s]s, loss=21.9]\n",
      "Epoch 9/20:   0%|          | 0/16 [00:00<?, ?it/s, loss=21.9]\n"
     ]
    },
    {
     "name": "stdout",
     "output_type": "stream",
     "text": [
      "Epoch [9/20], Loss: 23.0789\n"
     ]
    },
    {
     "name": "stderr",
     "output_type": "stream",
     "text": [
      "100%|██████████| 16/16 [00:00<00:00, 549.36it/s]/s, loss=22.4]\n",
      "Epoch 10/20:   0%|          | 0/16 [00:00<?, ?it/s, loss=22.4]\n"
     ]
    },
    {
     "name": "stdout",
     "output_type": "stream",
     "text": [
      "Epoch [10/20], Loss: 22.5445\n"
     ]
    },
    {
     "name": "stderr",
     "output_type": "stream",
     "text": [
      "100%|██████████| 16/16 [00:00<00:00, 562.83it/s]/s, loss=18.4]\n",
      "Epoch 11/20:   0%|          | 0/16 [00:00<?, ?it/s, loss=18.4]\n"
     ]
    },
    {
     "name": "stdout",
     "output_type": "stream",
     "text": [
      "Epoch [11/20], Loss: 23.5742\n"
     ]
    },
    {
     "name": "stderr",
     "output_type": "stream",
     "text": [
      "100%|██████████| 16/16 [00:00<00:00, 575.67it/s]/s, loss=20]  \n",
      "Epoch 12/20:   0%|          | 0/16 [00:00<?, ?it/s, loss=20]\n"
     ]
    },
    {
     "name": "stdout",
     "output_type": "stream",
     "text": [
      "Epoch [12/20], Loss: 22.8253\n"
     ]
    },
    {
     "name": "stderr",
     "output_type": "stream",
     "text": [
      "100%|██████████| 16/16 [00:00<00:00, 587.99it/s]/s, loss=16.1]\n",
      "Epoch 13/20:   0%|          | 0/16 [00:00<?, ?it/s, loss=16.1]\n"
     ]
    },
    {
     "name": "stdout",
     "output_type": "stream",
     "text": [
      "Epoch [13/20], Loss: 23.1181\n"
     ]
    },
    {
     "name": "stderr",
     "output_type": "stream",
     "text": [
      "100%|██████████| 16/16 [00:00<00:00, 537.93it/s]/s, loss=13.2]\n",
      "Epoch 14/20:   0%|          | 0/16 [00:00<?, ?it/s, loss=13.2]\n"
     ]
    },
    {
     "name": "stdout",
     "output_type": "stream",
     "text": [
      "Epoch [14/20], Loss: 21.9462\n"
     ]
    },
    {
     "name": "stderr",
     "output_type": "stream",
     "text": [
      "100%|██████████| 16/16 [00:00<00:00, 537.70it/s]/s, loss=46.6]\n",
      "Epoch 15/20:   0%|          | 0/16 [00:00<?, ?it/s, loss=46.6]\n"
     ]
    },
    {
     "name": "stdout",
     "output_type": "stream",
     "text": [
      "Epoch [15/20], Loss: 23.3440\n"
     ]
    },
    {
     "name": "stderr",
     "output_type": "stream",
     "text": [
      "100%|██████████| 16/16 [00:00<00:00, 517.25it/s]/s, loss=34.7]\n",
      "Epoch 16/20:   0%|          | 0/16 [00:00<?, ?it/s, loss=34.7]\n"
     ]
    },
    {
     "name": "stdout",
     "output_type": "stream",
     "text": [
      "Epoch [16/20], Loss: 23.6962\n"
     ]
    },
    {
     "name": "stderr",
     "output_type": "stream",
     "text": [
      "100%|██████████| 16/16 [00:00<00:00, 577.04it/s]/s, loss=24.8]\n",
      "Epoch 17/20:   0%|          | 0/16 [00:00<?, ?it/s, loss=24.8]\n"
     ]
    },
    {
     "name": "stdout",
     "output_type": "stream",
     "text": [
      "Epoch [17/20], Loss: 22.1447\n"
     ]
    },
    {
     "name": "stderr",
     "output_type": "stream",
     "text": [
      "100%|██████████| 16/16 [00:00<00:00, 556.87it/s]/s, loss=26.6]\n",
      "Epoch 18/20:   0%|          | 0/16 [00:00<?, ?it/s, loss=26.6]\n"
     ]
    },
    {
     "name": "stdout",
     "output_type": "stream",
     "text": [
      "Epoch [18/20], Loss: 21.6836\n"
     ]
    },
    {
     "name": "stderr",
     "output_type": "stream",
     "text": [
      "100%|██████████| 16/16 [00:00<00:00, 541.72it/s]/s, loss=23.1]\n",
      "Epoch 19/20:   0%|          | 0/16 [00:00<?, ?it/s, loss=23.1]\n"
     ]
    },
    {
     "name": "stdout",
     "output_type": "stream",
     "text": [
      "Epoch [19/20], Loss: 21.9075\n"
     ]
    },
    {
     "name": "stderr",
     "output_type": "stream",
     "text": [
      "100%|██████████| 16/16 [00:00<00:00, 462.31it/s]/s, loss=26.9]\n",
      "Epoch 20/20:   0%|          | 0/16 [00:00<?, ?it/s, loss=26.9]\n"
     ]
    },
    {
     "name": "stdout",
     "output_type": "stream",
     "text": [
      "Epoch [20/20], Loss: 21.4602\n"
     ]
    }
   ],
   "source": [
    "from tqdm import tqdm\n",
    "device = torch.device('cuda' if torch.cuda.is_available() else 'cpu')\n",
    "model.to(device)\n",
    "epochs = 20\n",
    "# 학습루프\n",
    "for epoch in range(epochs) :\n",
    "    tqdm_obj = tqdm(total=len(X_train_loader),desc=f\"Epoch {epoch+1}/{epochs}\")\n",
    "    loss_list = 0\n",
    "    for data, label in tqdm(X_train_loader) :\n",
    "        data, label = data.to(device), label.to(device)\n",
    "        optimizer.zero_grad()\n",
    "        y_pred = model(data)\n",
    "        loss = criterion(y_pred,label)\n",
    "        loss_list += loss.item()\n",
    "        loss.backward()\n",
    "        optimizer.step()\n",
    "\n",
    "        tqdm_obj.set_postfix({'loss':loss.item()})\n",
    "\n",
    "    tqdm_obj.close()\n",
    "    print(f\"Epoch [{epoch+1}/{epochs}], Loss: {loss_list/len(X_train_loader):.4f}\")\n",
    "\n",
    "torch.save(model.state_dict(),'./data/boston_model.pth')"
   ]
  },
  {
   "cell_type": "code",
   "execution_count": null,
   "id": "c5b2d427",
   "metadata": {},
   "outputs": [],
   "source": [
    "# 평가\n",
    "model.eval()\n",
    "total_loss = 0.0\n",
    "total_correct = 0\n",
    "total_samples = 0\n",
    "\n",
    "criterion = nn.MSELoss()\n",
    "with torch.no_grad():\n",
    "    for data, label in tqdm(X_train_loader,desc =\"Evaluating\"):\n",
    "        data, label = data.to"
   ]
  }
 ],
 "metadata": {
  "kernelspec": {
   "display_name": "Python 3",
   "language": "python",
   "name": "python3"
  },
  "language_info": {
   "codemirror_mode": {
    "name": "ipython",
    "version": 3
   },
   "file_extension": ".py",
   "mimetype": "text/x-python",
   "name": "python",
   "nbconvert_exporter": "python",
   "pygments_lexer": "ipython3",
   "version": "3.13.7"
  }
 },
 "nbformat": 4,
 "nbformat_minor": 5
}
