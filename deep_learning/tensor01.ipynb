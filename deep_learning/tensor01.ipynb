{
 "cells": [
  {
   "cell_type": "code",
   "execution_count": 102,
   "id": "0f0961cf",
   "metadata": {},
   "outputs": [],
   "source": [
    "# tensor\n",
    "# 데이터를 저장하는 다차원 배열 구조\n",
    "# 딥러닝이 학습할때 사용하는 자료구조\n",
    "# 0차원 텐서 : 스칼라 - 단일 데이터\n",
    "# 1차원 텐서 : 벡터 - 리스트 형태\n",
    "# 2차원 텐서 : 행렬 - 행과 열로 이루어진 데이터, 흑백 이미지\n",
    "# 3차원 텐서 : 큐브 - 컬러 이미지 흑백이미지 + 채널정보(R,G,B)\n",
    "# 고차원 텐서 : 시퀀스 데이터, 비디오 데이터\n",
    "\n",
    "# 데이터의 표준 형식 : 일관된 숫자 형식\n",
    "# 효율적인 계산 : GPU 지원 병렬연산에 유리\n",
    "# 딥러닝 프레임워크: TensorFlow, PyTorch 등에서 기본 데이터 구조로 사용"
   ]
  },
  {
   "cell_type": "code",
   "execution_count": 103,
   "id": "3ea56c8b",
   "metadata": {},
   "outputs": [
    {
     "name": "stdout",
     "output_type": "stream",
     "text": [
      "Requirement already satisfied: torch in c:\\users\\31799\\appdata\\local\\programs\\python\\python313\\lib\\site-packages (2.9.0)\n",
      "Requirement already satisfied: torchvision in c:\\users\\31799\\appdata\\local\\programs\\python\\python313\\lib\\site-packages (0.24.0)\n",
      "Requirement already satisfied: filelock in c:\\users\\31799\\appdata\\local\\programs\\python\\python313\\lib\\site-packages (from torch) (3.19.1)\n",
      "Requirement already satisfied: typing-extensions>=4.10.0 in c:\\users\\31799\\appdata\\local\\programs\\python\\python313\\lib\\site-packages (from torch) (4.14.1)\n",
      "Requirement already satisfied: sympy>=1.13.3 in c:\\users\\31799\\appdata\\local\\programs\\python\\python313\\lib\\site-packages (from torch) (1.14.0)\n",
      "Requirement already satisfied: networkx>=2.5.1 in c:\\users\\31799\\appdata\\local\\programs\\python\\python313\\lib\\site-packages (from torch) (3.5)\n",
      "Requirement already satisfied: jinja2 in c:\\users\\31799\\appdata\\local\\programs\\python\\python313\\lib\\site-packages (from torch) (3.1.6)\n",
      "Requirement already satisfied: fsspec>=0.8.5 in c:\\users\\31799\\appdata\\local\\programs\\python\\python313\\lib\\site-packages (from torch) (2025.9.0)\n",
      "Requirement already satisfied: setuptools in c:\\users\\31799\\appdata\\local\\programs\\python\\python313\\lib\\site-packages (from torch) (80.9.0)\n",
      "Requirement already satisfied: numpy in c:\\users\\31799\\appdata\\local\\programs\\python\\python313\\lib\\site-packages (from torchvision) (2.3.3)\n",
      "Requirement already satisfied: pillow!=8.3.*,>=5.3.0 in c:\\users\\31799\\appdata\\local\\programs\\python\\python313\\lib\\site-packages (from torchvision) (11.3.0)\n",
      "Requirement already satisfied: mpmath<1.4,>=1.1.0 in c:\\users\\31799\\appdata\\local\\programs\\python\\python313\\lib\\site-packages (from sympy>=1.13.3->torch) (1.3.0)\n",
      "Requirement already satisfied: MarkupSafe>=2.0 in c:\\users\\31799\\appdata\\local\\programs\\python\\python313\\lib\\site-packages (from jinja2->torch) (3.0.2)\n",
      "Note: you may need to restart the kernel to use updated packages.\n"
     ]
    }
   ],
   "source": [
    "%pip install torch torchvision"
   ]
  },
  {
   "cell_type": "code",
   "execution_count": 104,
   "id": "5107560d",
   "metadata": {},
   "outputs": [
    {
     "data": {
      "text/plain": [
       "tensor([[-3.4774e+00, -1.1794e+00,  7.5551e-01, -2.5559e-01],\n",
       "        [ 1.8406e+00,  7.3831e-01,  1.5431e+00,  1.1731e+00],\n",
       "        [ 5.9748e-04,  5.2099e-01,  3.1448e-01, -1.0541e+00]])"
      ]
     },
     "execution_count": 104,
     "metadata": {},
     "output_type": "execute_result"
    }
   ],
   "source": [
    "# 기본연산\n",
    "import torch\n",
    "# 빈 텐서 생성\n",
    "x = torch.empty(3, 4)\n",
    "x"
   ]
  },
  {
   "cell_type": "code",
   "execution_count": 105,
   "id": "c24abce0",
   "metadata": {},
   "outputs": [
    {
     "data": {
      "text/plain": [
       "tensor([[0.6276, 0.8305, 0.7137, 0.1895],\n",
       "        [0.1072, 0.2033, 0.2744, 0.2161],\n",
       "        [0.7788, 0.1864, 0.0915, 0.5131]])"
      ]
     },
     "execution_count": 105,
     "metadata": {},
     "output_type": "execute_result"
    }
   ],
   "source": [
    "# 랜덤 텐서\n",
    "x = torch.rand(3,4)\n",
    "x"
   ]
  },
  {
   "cell_type": "code",
   "execution_count": 106,
   "id": "b998a7a0",
   "metadata": {},
   "outputs": [
    {
     "data": {
      "text/plain": [
       "tensor([[0, 0, 0, 0],\n",
       "        [0, 0, 0, 0],\n",
       "        [0, 0, 0, 0]])"
      ]
     },
     "execution_count": 106,
     "metadata": {},
     "output_type": "execute_result"
    }
   ],
   "source": [
    "# 0으로 텐서 초기화\n",
    "torch.zeros(3,4,dtype=torch.long)"
   ]
  },
  {
   "cell_type": "code",
   "execution_count": 107,
   "id": "1afbb2f3",
   "metadata": {},
   "outputs": [
    {
     "data": {
      "text/plain": [
       "tensor([[1, 1, 1, 1],\n",
       "        [1, 1, 1, 1],\n",
       "        [1, 1, 1, 1]])"
      ]
     },
     "execution_count": 107,
     "metadata": {},
     "output_type": "execute_result"
    }
   ],
   "source": [
    "# 1로 채워진 텐서\n",
    "torch.ones(3,4,dtype=torch.long)"
   ]
  },
  {
   "cell_type": "code",
   "execution_count": 108,
   "id": "8a17b157",
   "metadata": {},
   "outputs": [
    {
     "name": "stdout",
     "output_type": "stream",
     "text": [
      "[3.4 3.  2.1]\n",
      "tensor([3.4000, 3.0000, 2.1000])\n"
     ]
    }
   ],
   "source": [
    "import numpy as np\n",
    "print(np.array([3.4,3,2.1]))\n",
    "print(torch.tensor([3.4,3,2.1]))"
   ]
  },
  {
   "cell_type": "code",
   "execution_count": 109,
   "id": "929bda9f",
   "metadata": {},
   "outputs": [
    {
     "data": {
      "text/plain": [
       "tensor([[ 0.9343,  1.9118, -0.6265, -0.8302],\n",
       "        [ 1.4155, -1.4551,  1.2930,  0.5699],\n",
       "        [ 0.1685, -1.3304,  0.0252,  0.1851]])"
      ]
     },
     "execution_count": 109,
     "metadata": {},
     "output_type": "execute_result"
    }
   ],
   "source": [
    "# 기존의 텐서를 기반으로 새로운 텐서 생성\n",
    "x = torch.ones(3,4)\n",
    "torch.randn_like(x,dtype=torch.float)"
   ]
  },
  {
   "cell_type": "code",
   "execution_count": 110,
   "id": "f7f89d97",
   "metadata": {},
   "outputs": [
    {
     "data": {
      "text/plain": [
       "(tensor([[ 0.0526,  0.7613,  0.3688,  0.8771],\n",
       "         [-0.2065, -1.0811, -0.0823,  0.4372],\n",
       "         [-0.3956,  0.5759,  0.4545,  0.7931]]),\n",
       " tensor([[-1.3685, -0.9103, -0.4250,  0.0986],\n",
       "         [ 0.0697, -1.0005,  0.6676, -0.5758],\n",
       "         [ 1.2123, -1.0376, -1.8571,  0.3889]]),\n",
       " tensor([[-1.3159, -0.1490, -0.0562,  0.9757],\n",
       "         [-0.1368, -2.0817,  0.5854, -0.1386],\n",
       "         [ 0.8167, -0.4617, -1.4026,  1.1820]]))"
      ]
     },
     "execution_count": 110,
     "metadata": {},
     "output_type": "execute_result"
    }
   ],
   "source": [
    "import torch\n",
    "x = torch.randn(3,4)\n",
    "y = torch.randn(3,4)\n",
    "x, y, x + y"
   ]
  },
  {
   "cell_type": "code",
   "execution_count": 111,
   "id": "dbd35673",
   "metadata": {},
   "outputs": [
    {
     "data": {
      "text/plain": [
       "tensor([[-1.3159, -0.1490, -0.0562,  0.9757],\n",
       "        [-0.1368, -2.0817,  0.5854, -0.1386],\n",
       "        [ 0.8167, -0.4617, -1.4026,  1.1820]])"
      ]
     },
     "execution_count": 111,
     "metadata": {},
     "output_type": "execute_result"
    }
   ],
   "source": [
    "torch.add(x, y)  # x + y 와 동일"
   ]
  },
  {
   "cell_type": "code",
   "execution_count": 112,
   "id": "9b9dd3f0",
   "metadata": {},
   "outputs": [
    {
     "data": {
      "text/plain": [
       "tensor([[-1.3159, -0.1490, -0.0562,  0.9757],\n",
       "        [-0.1368, -2.0817,  0.5854, -0.1386],\n",
       "        [ 0.8167, -0.4617, -1.4026,  1.1820]])"
      ]
     },
     "execution_count": 112,
     "metadata": {},
     "output_type": "execute_result"
    }
   ],
   "source": [
    "# in-place  y = y + x\n",
    "y.add_(x)"
   ]
  },
  {
   "cell_type": "code",
   "execution_count": 113,
   "id": "da51726b",
   "metadata": {},
   "outputs": [
    {
     "data": {
      "text/plain": [
       "(tensor([[-1.4812,  1.2696, -0.0449, -0.7176],\n",
       "         [ 0.8440, -1.0161, -0.1862,  0.9324],\n",
       "         [-0.5334, -0.4080,  1.6332,  0.1483]]),\n",
       " tensor([[ 2.8669,  2.1186, -2.3762, -0.0225,  0.5160],\n",
       "         [ 0.7957, -1.2561, -1.6385, -1.2361,  0.3514],\n",
       "         [ 1.4838,  0.6663,  0.8660,  0.1513, -0.3726],\n",
       "         [-1.3166, -0.5622, -0.3370,  0.1487,  0.4543]]),\n",
       " tensor([[-2.3582, -4.3593,  1.6425, -1.6495, -0.6275],\n",
       "         [ 0.1074,  2.4162, -0.8163,  1.3475,  0.5715],\n",
       "         [ 0.3742,  0.3873,  3.3002,  0.7856, -0.9597]]),\n",
       " tensor([[-2.3582, -4.3593,  1.6425, -1.6495, -0.6275],\n",
       "         [ 0.1074,  2.4162, -0.8163,  1.3475,  0.5715],\n",
       "         [ 0.3742,  0.3873,  3.3002,  0.7856, -0.9597]]))"
      ]
     },
     "execution_count": 113,
     "metadata": {},
     "output_type": "execute_result"
    }
   ],
   "source": [
    "# 행렬의 곱셈\n",
    "x = torch.randn(3,4)\n",
    "y = torch.randn(4,5)\n",
    "x, y, torch.mm(x,y),x @ y  # 행렬곱셈 연산자"
   ]
  },
  {
   "cell_type": "code",
   "execution_count": 114,
   "id": "b3dd8d13",
   "metadata": {},
   "outputs": [
    {
     "data": {
      "text/plain": [
       "(tensor(0.0705), 0.07051914930343628, torch.Tensor, float)"
      ]
     },
     "execution_count": 114,
     "metadata": {},
     "output_type": "execute_result"
    }
   ],
   "source": [
    "# 슬라이싱 가능\n",
    "x = torch.randn(4,5)\n",
    "x[1,1], x[1,1].item(), type(x[1,1]),type(x[1,1].item())"
   ]
  },
  {
   "cell_type": "code",
   "execution_count": 115,
   "id": "8d0a425c",
   "metadata": {},
   "outputs": [],
   "source": [
    "# x 4 by 4\n",
    "# view : reshape -> 텐서 모양 변경\n",
    "# size : shape -> 텐서 모양 확인\n",
    "# 가독성... view size 사용되었다는 것은 해당 자료구조가 텐서라는것을 명시\n",
    "# x.view(-1,8) , x.size()"
   ]
  },
  {
   "cell_type": "code",
   "execution_count": 116,
   "id": "65edec82",
   "metadata": {},
   "outputs": [
    {
     "data": {
      "text/plain": [
       "array([1., 1., 1., 1., 1.], dtype=float32)"
      ]
     },
     "execution_count": 116,
     "metadata": {},
     "output_type": "execute_result"
    }
   ],
   "source": [
    "# 텐서 -> 넘파티\n",
    "import numpy as np\n",
    "import torch\n",
    "a = torch.ones(5)\n",
    "a.numpy()"
   ]
  },
  {
   "cell_type": "code",
   "execution_count": 117,
   "id": "50bf4eaf",
   "metadata": {},
   "outputs": [
    {
     "data": {
      "text/plain": [
       "tensor([1, 2, 3, 4, 5])"
      ]
     },
     "execution_count": 117,
     "metadata": {},
     "output_type": "execute_result"
    }
   ],
   "source": [
    "# 넘파이 -> 텐서\n",
    "b = np.array([1,2,3,4,5])\n",
    "torch.from_numpy(b)"
   ]
  },
  {
   "cell_type": "code",
   "execution_count": 118,
   "id": "ae84429d",
   "metadata": {},
   "outputs": [
    {
     "name": "stdout",
     "output_type": "stream",
     "text": [
      "GPU 사용 불가\n"
     ]
    }
   ],
   "source": [
    "# GPU 사용\n",
    "if torch.cuda.is_available():\n",
    "    device = torch.device('cuda') # GPU 장치 객체 생성\n",
    "    # 텐서들은 GPU에서 연산해야되기 때문에 생성을 GPU에서 생성\n",
    "    x = torch.ones(5, device=device) # GPU에 텐서 생성\n",
    "    y = torch.ones(5) # CPU에 텐서 생성\n",
    "    y = y.to(device)  # y 텐서를 GPU로 이동\n",
    "    z = x + y\n",
    "    print(f\"GPU 연산 결과: {z}\")\n",
    "    print(f\"다시 CPU로 이동: {z.to('cpu', torch.double)}\")\n",
    "else :\n",
    "    print(\"GPU 사용 불가\")\n",
    "    device = torch.device('cpu')\n"
   ]
  },
  {
   "cell_type": "code",
   "execution_count": 119,
   "id": "c5afeb62",
   "metadata": {},
   "outputs": [],
   "source": [
    "# 행렬 곱\n",
    "# (x, y) * (x1, y1)\n",
    "# y, x1의 차수는 같아야한다...\n",
    "# 행렬곱의 결과는 x, y1\n",
    "\n",
    "# 텐서는 딥러닝을 위해 만들 자료구조... 내부에 gpu 연산에 특화된 구조 일반적인 모양은 넘파이와 동일\n",
    "# 텐서는 gpu 연산을 지원"
   ]
  },
  {
   "cell_type": "code",
   "execution_count": 120,
   "id": "11ea82f1",
   "metadata": {},
   "outputs": [],
   "source": [
    "# 자동 미분(AutoGrad) 매 계산과정마다 해당 계산과정의 미분값을 저장\n",
    "# 파이토치 requires_grad 속성을 True로 설정하면 계산 그래프라는 형태로 기록 - 동영상 녹화와 비슷한 원리\n",
    "# .backward() 호출하면 이 과정을 거꾸로 되갑으면서 각 단계의 미분값을 계산해 최종 기울기를 얻는다\n"
   ]
  },
  {
   "cell_type": "code",
   "execution_count": 121,
   "id": "93a4a045",
   "metadata": {},
   "outputs": [
    {
     "data": {
      "text/plain": [
       "(tensor([[1., 1.],\n",
       "         [1., 1.]], requires_grad=True),\n",
       " torch.Size([2, 2]))"
      ]
     },
     "execution_count": 121,
     "metadata": {},
     "output_type": "execute_result"
    }
   ],
   "source": [
    "x = torch.ones(2,2, requires_grad=True)\n",
    "x, x.size()"
   ]
  },
  {
   "cell_type": "code",
   "execution_count": 122,
   "id": "761fff98",
   "metadata": {},
   "outputs": [
    {
     "name": "stdout",
     "output_type": "stream",
     "text": [
      "tensor([[3., 3.],\n",
      "        [3., 3.]], grad_fn=<AddBackward0>) <AddBackward0 object at 0x000001B2E60092D0>\n"
     ]
    },
    {
     "data": {
      "text/plain": [
       "(tensor([[27., 27.],\n",
       "         [27., 27.]], grad_fn=<MulBackward0>),\n",
       " tensor(27., grad_fn=<MeanBackward0>))"
      ]
     },
     "execution_count": 122,
     "metadata": {},
     "output_type": "execute_result"
    }
   ],
   "source": [
    "y = x + 2  # y도 계산그래프에 추가\n",
    "print(y, y.grad_fn)\n",
    "z= y * y * 3\n",
    "out = z.mean()\n",
    "z, out"
   ]
  },
  {
   "cell_type": "code",
   "execution_count": 123,
   "id": "2e92c0fe",
   "metadata": {},
   "outputs": [
    {
     "data": {
      "text/plain": [
       "tensor([[4.5000, 4.5000],\n",
       "        [4.5000, 4.5000]])"
      ]
     },
     "execution_count": 123,
     "metadata": {},
     "output_type": "execute_result"
    }
   ],
   "source": [
    "# 기울기....구하는 과정을.... 역전파 --> 기울기 계산\n",
    "# 최종결과가 out에서 부터 시작해서 계산그래프를 거꾸로 ㄱ거슬러 올라가면서 미분의 연쇄법칙을사용해서 미분값을  계산\n",
    "# out을 x에 대해서 미분\n",
    "out.backward()  # out에 대한 역전파 계산\n",
    "x.grad  # x에 대한 기울기 출력"
   ]
  },
  {
   "cell_type": "code",
   "execution_count": 124,
   "id": "1dac17b6",
   "metadata": {},
   "outputs": [],
   "source": [
    "# out = 1/4(z1+z2+z3+z4)\n",
    "# z = 3y^2\n",
    "# y = x + 2\n",
    "\n",
    "# d-out/dxi = 3*(xi +2)/4 * 2 = 3/2 *(xi +2)"
   ]
  },
  {
   "cell_type": "code",
   "execution_count": 128,
   "id": "c77d4571",
   "metadata": {},
   "outputs": [
    {
     "name": "stdout",
     "output_type": "stream",
     "text": [
      "tensor([-0.3330, -1.4026,  0.4785], requires_grad=True)\n",
      "y: tensor([ -340.9592, -1436.2125,   489.9508], grad_fn=<MulBackward0>)\n",
      "반복횟수 : 9   y = x*2^i+1\n",
      "x.grad: tensor([1.0240e+02, 1.0240e+03, 1.0240e-01])\n"
     ]
    }
   ],
   "source": [
    "# 기울기 제어\n",
    "# 역전파, torch.no_grad, detach\n",
    "# required_grad = True 연산 추적\n",
    "import torch\n",
    "x = torch.randn(3, requires_grad=True)\n",
    "print(x)\n",
    "# y 는 x로부터 연산기록을 물려받음\n",
    "y = x * 2\n",
    "# 노름(유클리드 노름)  벡터의 크기를 측정하는 방법(원점으로부터 벡터까지의 거리)  모든 요소를각각 제곱하고 모두 더해서 결과에 제곱근(루트)\n",
    "# y의 실제데이터의 크기를 확인해서 반복\n",
    "i = 0\n",
    "while y.data.norm()  < 1000:\n",
    "    y = y*2\n",
    "    i += 1\n",
    "print(f'y: {y}')    \n",
    "print(f'반복횟수 : {i}   y = x*2^i+1')  \n",
    "\n",
    "# 벡터에 대한 역전파(야코비안 행렬)\n",
    "# 벡터를 벡터로 미분하면 결과는 행렬인 야코비안 행렬\n",
    "# pytorch는 전체 야코비안 행렬을  직접 계산하는 대신 야코비안 - 벡터 곱을 계산해서 메모리를 절약\n",
    "v = torch.tensor([0.1,1.0,0.0001], dtype=torch.float)\n",
    "y.backward(v)  # y를 x에 대해 미분한 야코비안 행렬과 입력으로 제공된 벡터v를 곱하라는 의미\n",
    "# Vt *\n",
    "print(f'x.grad: {x.grad}')"
   ]
  },
  {
   "cell_type": "markdown",
   "id": "acb2667d",
   "metadata": {},
   "source": [
    "```\n",
    "스칼라 백워드 Scalar Backward : 역전파로 구하는 기울기가 하나일때\n",
    "out.backward()\n",
    "최종점수가 숫자하나  ex) 수학공부 1시간 했을때 최종점수에 몇점의 영향을 줬는지\n",
    "최종 목표가 하나(스칼라) 이기때문에 각 원인(각 변수)의 기여도를 바로 계산\n",
    "\n",
    "벡터 백워드 Vector Backward : 기울기가 여러개일때\n",
    "y.backward(v)\n",
    "과목별 점수가 담긴 성적표(벡터) 공부시간이 성적에 얼마나 영향을 줬는지 물어보면 애매함 국어성적? 영어성적?\n",
    "가중치 또는 중요도를 알려주는 벡터 v = torch.tensor([0.1,1.0,0.0001], dtype=torch.float)\n",
    "중요도를 반영해서 최종적으로 공부시간의 기여도를 확인\n",
    "```"
   ]
  },
  {
   "cell_type": "code",
   "execution_count": 132,
   "id": "340240f2",
   "metadata": {},
   "outputs": [
    {
     "name": "stdout",
     "output_type": "stream",
     "text": [
      "no_grad 내부 : False\n",
      "detach 전 False\n",
      "detach 후 False\n"
     ]
    }
   ],
   "source": [
    "# 각 학습을 진행하면서도중에 모델의 성능을 평가가 필요 - 기울기 계산을 하면 안됨\n",
    "with torch.no_grad():\n",
    "    print(f'no_grad 내부 : {(x**2).requires_grad}')\n",
    "\n",
    "# .detach() 계산그래프에서 텐서를 분리\n",
    "print(f'detach 전 {y.requires_grad}')\n",
    "y = x.detach()\n",
    "print(f'detach 후 {y.requires_grad}')"
   ]
  }
 ],
 "metadata": {
  "kernelspec": {
   "display_name": "Python 3",
   "language": "python",
   "name": "python3"
  },
  "language_info": {
   "codemirror_mode": {
    "name": "ipython",
    "version": 3
   },
   "file_extension": ".py",
   "mimetype": "text/x-python",
   "name": "python",
   "nbconvert_exporter": "python",
   "pygments_lexer": "ipython3",
   "version": "3.13.7"
  }
 },
 "nbformat": 4,
 "nbformat_minor": 5
}
