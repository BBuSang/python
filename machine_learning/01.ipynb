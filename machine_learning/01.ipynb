{
 "cells": [
  {
   "cell_type": "code",
   "execution_count": null,
   "id": "2841a21b",
   "metadata": {},
   "outputs": [],
   "source": [
    "# 머신 러닝\n",
    "# 지도학습\n",
    "# 분류(Classification)와 회귀(Regression)"
   ]
  }
 ],
 "metadata": {
  "language_info": {
   "name": "python"
  }
 },
 "nbformat": 4,
 "nbformat_minor": 5
}
