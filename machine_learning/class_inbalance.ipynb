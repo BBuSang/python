{
 "cells": [
  {
   "cell_type": "markdown",
   "id": "0fe26980",
   "metadata": {},
   "source": [
    "#### 불균형 클래스\n",
    "#### 클래스 불균형에 대한 이해\n",
    "#### 클래스 가중치 사용\n",
    "#### 리셈플링 기법\n",
    "#### 적절한 평가 지표\n"
   ]
  },
  {
   "cell_type": "code",
   "execution_count": 128,
   "id": "97046f17",
   "metadata": {},
   "outputs": [
    {
     "name": "stdout",
     "output_type": "stream",
     "text": [
      "악성 양성의 오리지널 비율 : (array([0, 1]), array([212, 357]))\n",
      "클래스 분포 : \n",
      "클래스 0 : 40개, 비율: 10.08%\n",
      "클래스 1 : 357개, 비율: 89.92%\n",
      "              precision    recall  f1-score   support\n",
      "\n",
      "           0       1.00      0.88      0.93         8\n",
      "           1       0.99      1.00      0.99        72\n",
      "\n",
      "    accuracy                           0.99        80\n",
      "   macro avg       0.99      0.94      0.96        80\n",
      "weighted avg       0.99      0.99      0.99        80\n",
      "\n"
     ]
    }
   ],
   "source": [
    "# 불균형 데이터 생성(1:9) 악성 0 : 양성 1\n",
    "from sklearn.datasets import load_breast_cancer\n",
    "import numpy as np\n",
    "from sklearn.model_selection import train_test_split\n",
    "from sklearn.preprocessing import StandardScaler\n",
    "from sklearn.linear_model import LogisticRegression\n",
    "from sklearn.pipeline import Pipeline\n",
    "from sklearn.metrics import classification_report\n",
    "\n",
    "data = load_breast_cancer()\n",
    "X, y = data.data, data.target\n",
    "\n",
    "# 악성을 소수 클래스로 생성\n",
    "print(f'악성 양성의 오리지널 비율 : {np.unique(y, return_counts=True)}')\n",
    "\n",
    "m_index = np.where(y == 0)[0] # 악성 클래스 인덱스 확인\n",
    "b_index = np.where(y == 1)[0] # 양성 클래스 인덱스 확인\n",
    "\n",
    "# 악성은 일부만, 양성은 더 많이 사용\n",
    "# 악성의 19%만 사용, 양성은 전체  1:9\n",
    "size_30 = int(len(m_index) * 0.19)\n",
    "selected_m_index = np.random.choice(m_index, size=size_30, replace=False)\n",
    "selected_b_index = b_index\n",
    "\n",
    "concatenate_selected_index = np.concatenate([selected_m_index, selected_b_index])\n",
    "np.random.shuffle(concatenate_selected_index)\n",
    "\n",
    "X_imb = X[concatenate_selected_index]\n",
    "y_imb = y[concatenate_selected_index]\n",
    "\n",
    "# 클래스 분포 확인\n",
    "unique, counts = np.unique(y_imb, return_counts=True)\n",
    "print('클래스 분포 : ')\n",
    "for u, c in zip(unique, counts):\n",
    "    percentage = c / len(y_imb) * 100\n",
    "    print(f'클래스 {u} : {c}개, 비율: {percentage:.2f}%')\n",
    "\n",
    "# 불균형인 상태로 모델 학습\n",
    "# 스케일링 정규화 StandardScaler\n",
    "# LogisticRegression 모델 학습\n",
    "# Pipeline 사용\n",
    "# 평가는 class report 사용\n",
    "X_train, X_test, y_train, y_test = train_test_split(X_imb, y_imb, test_size=0.2, random_state=42, stratify=y_imb)\n",
    "pipeline = Pipeline([\n",
    "    ('scaler', StandardScaler()),\n",
    "    ('clf', LogisticRegression())\n",
    "])\n",
    "pipeline.fit(X_train, y_train)\n",
    "y_pred = pipeline.predict(X_test)\n",
    "print(classification_report(y_test, y_pred))\n"
   ]
  },
  {
   "cell_type": "code",
   "execution_count": 131,
   "id": "f026a0f9",
   "metadata": {},
   "outputs": [
    {
     "name": "stdout",
     "output_type": "stream",
     "text": [
      "불균형 해결 : 클래스 가중치 사용\n",
      "              precision    recall  f1-score   support\n",
      "\n",
      "           0       0.78      0.88      0.82         8\n",
      "           1       0.99      0.97      0.98        72\n",
      "\n",
      "    accuracy                           0.96        80\n",
      "   macro avg       0.88      0.92      0.90        80\n",
      "weighted avg       0.97      0.96      0.96        80\n",
      "\n",
      "가중치 계산\n",
      "클래스 0의 가중치 : 4.95\n",
      "클래스 1의 가중치 : 0.56\n"
     ]
    }
   ],
   "source": [
    "print('불균형 해결 : 클래스 가중치 사용')\n",
    "# 기존파이프라인의 clf 이름의 객체의 파라메터를 조정\n",
    "pipe_weighted = pipeline.set_params(clf__class_weight='balanced')\n",
    "pipe_weighted.fit(X_train, y_train)\n",
    "y_pred_weighted = pipe_weighted.predict(X_test)\n",
    "print(classification_report(y_test, y_pred_weighted))\n",
    "\n",
    "print('가중치 계산')\n",
    "n_samples = len(y_train)\n",
    "n_classes = 2\n",
    "class_weights = np.bincount(y_train)\n",
    "for i in range(n_classes):\n",
    "    weight =  n_samples / (n_classes * class_weights[i])\n",
    "    print(f'클래스 {i}의 가중치 : {weight:.2f}')"
   ]
  },
  {
   "cell_type": "code",
   "execution_count": 133,
   "id": "cf442a8a",
   "metadata": {},
   "outputs": [
    {
     "name": "stdout",
     "output_type": "stream",
     "text": [
      "불균형 : RandomForest(균형모드)\n",
      "              precision    recall  f1-score   support\n",
      "\n",
      "           0       1.00      0.62      0.77         8\n",
      "           1       0.96      1.00      0.98        72\n",
      "\n",
      "    accuracy                           0.96        80\n",
      "   macro avg       0.98      0.81      0.87        80\n",
      "weighted avg       0.96      0.96      0.96        80\n",
      "\n"
     ]
    }
   ],
   "source": [
    "from sklearn.ensemble import RandomForestClassifier\n",
    "print('불균형 : RandomForest(균형모드)')\n",
    "pipe_rf = Pipeline([\n",
    "    ('scaler', StandardScaler()),\n",
    "    ('clf', RandomForestClassifier(class_weight='balanced', random_state=42))\n",
    "])\n",
    "pipe_rf.fit(X_train, y_train)\n",
    "y_pred_rf = pipe_rf.predict(X_test)\n",
    "print(classification_report(y_test, y_pred_rf))"
   ]
  },
  {
   "cell_type": "code",
   "execution_count": 135,
   "id": "94dd4bd7",
   "metadata": {},
   "outputs": [
    {
     "name": "stdout",
     "output_type": "stream",
     "text": [
      "오버샘플링 : SMOTE\n",
      "리샘플링 후 클래스 분포 : \n",
      "클래스 0 : 285개, 비율: 50.00%\n",
      "클래스 1 : 285개, 비율: 50.00%\n",
      "              precision    recall  f1-score   support\n",
      "\n",
      "           0       0.88      0.88      0.88         8\n",
      "           1       0.99      0.99      0.99        72\n",
      "\n",
      "    accuracy                           0.97        80\n",
      "   macro avg       0.93      0.93      0.93        80\n",
      "weighted avg       0.97      0.97      0.97        80\n",
      "\n",
      "언더샘플링 : RandomUnderSampler\n",
      "리샘플링 후 클래스 분포 : \n",
      "클래스 0 : 32개, 비율: 50.00%\n",
      "클래스 1 : 32개, 비율: 50.00%\n",
      "              precision    recall  f1-score   support\n",
      "\n",
      "           0       0.64      0.88      0.74         8\n",
      "           1       0.99      0.94      0.96        72\n",
      "\n",
      "    accuracy                           0.94        80\n",
      "   macro avg       0.81      0.91      0.85        80\n",
      "weighted avg       0.95      0.94      0.94        80\n",
      "\n"
     ]
    }
   ],
   "source": [
    "# 오버 or 언더 셈플링 기법\n",
    "from imblearn.over_sampling import SMOTE\n",
    "from imblearn.under_sampling import RandomUnderSampler\n",
    "print('오버샘플링 : SMOTE')\n",
    "smote = SMOTE(random_state=42)\n",
    "X_resampled, y_resampled = smote.fit_resample(X_train, y_train)\n",
    "print('리샘플링 후 클래스 분포 : ')\n",
    "unique, counts = np.unique(y_resampled, return_counts=True)\n",
    "for u, c in zip(unique, counts):\n",
    "    percentage = c / len(y_resampled) * 100\n",
    "    print(f'클래스 {u} : {c}개, 비율: {percentage:.2f}%')\n",
    "pipe_smote = Pipeline([\n",
    "    ('scaler', StandardScaler()),\n",
    "    ('clf', LogisticRegression())\n",
    "])\n",
    "pipe_smote.fit(X_resampled, y_resampled)\n",
    "y_pred_smote = pipe_smote.predict(X_test)\n",
    "print(classification_report(y_test, y_pred_smote))\n",
    "\n",
    "print('언더샘플링 : RandomUnderSampler')\n",
    "rus = RandomUnderSampler(random_state=42)\n",
    "X_resampled_u, y_resampled_u = rus.fit_resample(X_train, y_train)\n",
    "print('리샘플링 후 클래스 분포 : ')\n",
    "unique, counts = np.unique(y_resampled_u, return_counts=True)\n",
    "for u, c in zip(unique, counts):\n",
    "    percentage = c / len(y_resampled_u) * 100\n",
    "    print(f'클래스 {u} : {c}개, 비율: {percentage:.2f}%')\n",
    "pipe_rus = Pipeline([\n",
    "    ('scaler', StandardScaler()),\n",
    "    ('clf', LogisticRegression())\n",
    "])\n",
    "pipe_rus.fit(X_resampled_u, y_resampled_u)\n",
    "y_pred_rus = pipe_rus.predict(X_test)\n",
    "print(classification_report(y_test, y_pred_rus))"
   ]
  }
 ],
 "metadata": {
  "kernelspec": {
   "display_name": "Python 3",
   "language": "python",
   "name": "python3"
  },
  "language_info": {
   "codemirror_mode": {
    "name": "ipython",
    "version": 3
   },
   "file_extension": ".py",
   "mimetype": "text/x-python",
   "name": "python",
   "nbconvert_exporter": "python",
   "pygments_lexer": "ipython3",
   "version": "3.13.7"
  }
 },
 "nbformat": 4,
 "nbformat_minor": 5
}
